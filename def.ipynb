{
 "cells": [
  {
   "cell_type": "code",
   "execution_count": 1,
   "id": "d0decc7a",
   "metadata": {},
   "outputs": [],
   "source": [
    "import streamlit as st"
   ]
  },
  {
   "cell_type": "code",
   "execution_count": 2,
   "id": "98a60cb6",
   "metadata": {},
   "outputs": [],
   "source": [
    "st.set_page_config(\n",
    "    page_title=\"Antisemitism Knowledge Assessment\",\n",
    "    page_icon=\"☮️\",\n",
    "    layout=\"centered\",\n",
    "    initial_sidebar_state=\"expanded\",\n",
    "    menu_items={\n",
    "        'About': \"https://openpeace.ai/about-us\"\n",
    "    }\n",
    ")"
   ]
  },
  {
   "cell_type": "code",
   "execution_count": 3,
   "id": "01d0e291",
   "metadata": {},
   "outputs": [
    {
     "name": "stderr",
     "output_type": "stream",
     "text": [
      "2023-03-30 18:25:09.446 \n",
      "  \u001b[33m\u001b[1mWarning:\u001b[0m to view this Streamlit app on a browser, run it with the following\n",
      "  command:\n",
      "\n",
      "    streamlit run /Users/hagayzamir/opt/anaconda3/lib/python3.9/site-packages/ipykernel_launcher.py [ARGUMENTS]\n"
     ]
    },
    {
     "data": {
      "text/plain": [
       "DeltaGenerator(_root_container=0, _provided_cursor=None, _parent=None, _block_type=None, _form_data=None)"
      ]
     },
     "execution_count": 3,
     "metadata": {},
     "output_type": "execute_result"
    }
   ],
   "source": [
    "# Add css to make text bigger\n",
    "st.markdown(\n",
    "    \"\"\"\n",
    "    <style>\n",
    "    \n",
    "    label \n",
    "    {\n",
    "    font-size:115% !important;\n",
    "    color: #800000;\n",
    "    }\n",
    "    \n",
    "    div[class*=\"stSelect\"] label {\n",
    "    font-size:115% !important;\n",
    "    color: #800000;\n",
    "    }\n",
    "\n",
    "\n",
    "    div[class*=\"stTextArea\"] label {\n",
    "    font-size:115% !important;\n",
    "    color: #800000;\n",
    "    }\n",
    "\n",
    "    div[class*=\"stTextInput\"] label {\n",
    "    font-size:115% !important;\n",
    "    color: #800000;\n",
    "    }\n",
    "    \n",
    "    div[class*=\"stDateInput\"] label {\n",
    "    font-size:115% !important;\n",
    "    color: #800000;\n",
    "    }\n",
    "\n",
    "    div[class*=\"stNumberInput\"] label {\n",
    "    font-size:115% !important;\n",
    "    color: #800000;\n",
    "    }\n",
    "    \n",
    "    div[data-testid=\"column\"]:nth-of-type(1)\n",
    "    {\n",
    "        border:0px solid blue;\n",
    "        color: #c0c0c0;\n",
    "    }\n",
    "    div[data-testid=\"column\"]:nth-of-type(2)\n",
    "    {\n",
    "        border:0px solid blue;\n",
    "        color: #c0c0c0;\n",
    "        text-align: end;\n",
    "    }\n",
    "    .stTextInput > label \n",
    "    {\n",
    "    font-size:115%; font-weight:bold; color:#800000;\n",
    "    }    \n",
    "    .stMultiSelect > label \n",
    "    {\n",
    "    font-size:115%; font-weight:bold; color:#800000;\n",
    "    }\n",
    "    </style>\n",
    "    \"\"\",\n",
    "    unsafe_allow_html=True,\n",
    ")"
   ]
  },
  {
   "cell_type": "code",
   "execution_count": 4,
   "id": "91bd13dc",
   "metadata": {},
   "outputs": [],
   "source": [
    "import pandas as pd\n",
    "pd.set_option('display.max_colwidth', None)\n",
    "from sqlalchemy import create_engine\n",
    "\n",
    "import numpy as np \n",
    "import mysql.connector\n",
    "import pycountry\n",
    "from datetime import datetime, date, timedelta"
   ]
  },
  {
   "cell_type": "code",
   "execution_count": 5,
   "id": "25e9b5db",
   "metadata": {},
   "outputs": [
    {
     "data": {
      "text/plain": [
       "DeltaGenerator(_root_container=0, _provided_cursor=None, _parent=None, _block_type=None, _form_data=None)"
      ]
     },
     "execution_count": 5,
     "metadata": {},
     "output_type": "execute_result"
    }
   ],
   "source": [
    "#with st.sidebar:\n",
    "st.image(\"https://img1.wsimg.com/isteam/ip/f8df9fda-2223-42be-a383-5d7d72e7c082/Openpeace%20Logo_Layout%201A.png/:/rs=w:230,h:38,cg:true,m/cr=w:230,h:38/qt=q:100/ll\", width=230)  # Adjust the width as needed\n",
    "st.header(\"Antisemitism Knowledge Assessment\")\n",
    "st.image(\"https://img1.wsimg.com/isteam/ip/f8df9fda-2223-42be-a383-5d7d72e7c082/pexels-wouter-de-jong-750896.jpg/:/cr=t:12.42%25,l:0%25,w:100%25,h:75.16%25/rs=w:814,h:407,cg:true\")\n",
    "\n",
    "st.markdown('##### The Spiritual Consciousness Assessment is a unique and engaging \\\n",
    "            questionnaire designed to explore individual perspectives on spirituality, \\\n",
    "            personal growth, and transcendent experiences.')\n",
    "#st.markdown('##') \n",
    "st.markdown('##### Use the form below to select the answers to the questions presented and submit it to see your Spiritual \\\n",
    "            Consciousness score.')\n",
    "st.markdown('---')     \n",
    "st.markdown('##### Please enter your email address, date of birth, and country.')\n",
    "st.error('NOTE: You can only take this assessment once, and your information \\\n",
    "                will remain anonymous, as we prioritize your privacy and security.')\n",
    "#st.write(\"Please enter your email, birthday and country:\")    \n",
    "# Input fields for email, birthday and country\n",
    "email = st.text_input(\"Email:\", \"\")\n",
    "min_birthday = date.today() - timedelta(days=365*110)\n",
    "max_birthday = date.today() - timedelta(days=365*14)\n",
    "birthday = st.date_input(\"Birthday (MM/DD/YYYY):\", value=datetime(2000, 1, 1), min_value=min_birthday, max_value=max_birthday)\n",
    "countries = [\"Select Country\"] + sorted([\"United States\"] + [country.name for country in pycountry.countries if country.name != \"United States\"])\n",
    "country = st.selectbox(\"Country:\", countries)\n",
    "st.markdown('---')     \n",
    "st.markdown('##### The following section explores a range of topics, \\\n",
    "            including beliefs, practices, interconnectedness, transcendent experiences, \\\n",
    "            and personal development.', unsafe_allow_html=False)\n"
   ]
  },
  {
   "cell_type": "code",
   "execution_count": null,
   "id": "63d6e659",
   "metadata": {},
   "outputs": [],
   "source": []
  }
 ],
 "metadata": {
  "kernelspec": {
   "display_name": "Python 3 (ipykernel)",
   "language": "python",
   "name": "python3"
  },
  "language_info": {
   "codemirror_mode": {
    "name": "ipython",
    "version": 3
   },
   "file_extension": ".py",
   "mimetype": "text/x-python",
   "name": "python",
   "nbconvert_exporter": "python",
   "pygments_lexer": "ipython3",
   "version": "3.9.13"
  }
 },
 "nbformat": 4,
 "nbformat_minor": 5
}
